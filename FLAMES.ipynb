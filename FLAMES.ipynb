{
 "cells": [
  {
   "cell_type": "code",
   "execution_count": 1,
   "id": "59465df8",
   "metadata": {},
   "outputs": [
    {
     "name": "stdout",
     "output_type": "stream",
     "text": [
      "Player 1 name: Aman\n",
      "Player 2 name: Harman\n",
      "Relationship Status: Enemy\n"
     ]
    }
   ],
   "source": [
    "def xyz(list1, list2):\n",
    "    common_found = False\n",
    "    list3 = []\n",
    "\n",
    "    for c in list1[:]:\n",
    "        if c in list2:\n",
    "            list1.remove(c)\n",
    "            list2.remove(c)\n",
    "            common_found = True\n",
    "    \n",
    "    list3 = list1 + [\"*\"] + list2\n",
    "    return list3, common_found\n",
    "\n",
    "if __name__ == \"__main__\":\n",
    "    p1 = input(\"Player 1 name: \").lower().replace(\" \", \"\")\n",
    "    p1_list = list(p1)\n",
    "\n",
    "    p2 = input(\"Player 2 name: \").lower().replace(\" \", \"\")\n",
    "    p2_list = list(p2)\n",
    "\n",
    "    first, second = xyz(p1_list, p2_list)\n",
    "    while second:\n",
    "        star_index = first.index(\"*\")\n",
    "        p1_list = first[:star_index]\n",
    "        p2_list = first[star_index+1:]\n",
    "        first, second = xyz(p1_list, p2_list)\n",
    "\n",
    "    count = len(p1_list) + len(p2_list)\n",
    "    result = [\"Friends\", \"Love\", \"Affection\", \"Marriage\", \"Enemy\", \"Siblings\"]\n",
    "    \n",
    "    while len(result) > 1:\n",
    "        cal = (count % len(result) - 1)\n",
    "        if cal >= 0:\n",
    "            right = result[cal+1:]\n",
    "            left = result[:cal]\n",
    "            result = right + left\n",
    "        else:\n",
    "            result = result[:len(result)-1]\n",
    "    \n",
    "    print(\"Relationship Status:\", result[0])"
   ]
  },
  {
   "cell_type": "code",
   "execution_count": null,
   "id": "49a9eb24",
   "metadata": {},
   "outputs": [],
   "source": []
  }
 ],
 "metadata": {
  "kernelspec": {
   "display_name": "Python 3 (ipykernel)",
   "language": "python",
   "name": "python3"
  },
  "language_info": {
   "codemirror_mode": {
    "name": "ipython",
    "version": 3
   },
   "file_extension": ".py",
   "mimetype": "text/x-python",
   "name": "python",
   "nbconvert_exporter": "python",
   "pygments_lexer": "ipython3",
   "version": "3.10.9"
  }
 },
 "nbformat": 4,
 "nbformat_minor": 5
}
